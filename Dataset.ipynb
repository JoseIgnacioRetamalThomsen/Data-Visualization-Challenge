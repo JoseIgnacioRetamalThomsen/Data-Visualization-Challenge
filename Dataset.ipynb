{
 "cells": [
  {
   "cell_type": "code",
   "execution_count": 1,
   "id": "bfaf4d66",
   "metadata": {},
   "outputs": [],
   "source": [
    "# Important Pandas and Numpy and giving them an easy to use/standard alias.\n",
    "import pandas as pd\n",
    "import numpy as np\n",
    "# Important the part of Matplotlib that we will need and a standard alias.\n",
    "import matplotlib.pylab as plt\n",
    "import pandas_profiling"
   ]
  },
  {
   "cell_type": "code",
   "execution_count": 2,
   "id": "ebb51e77",
   "metadata": {},
   "outputs": [
    {
     "name": "stderr",
     "output_type": "stream",
     "text": [
      "C:\\Users\\Pepe\\AppData\\Local\\Programs\\Python\\Python39\\lib\\site-packages\\IPython\\core\\interactiveshell.py:3441: DtypeWarning: Columns (1,6,9,10,11,12) have mixed types.Specify dtype option on import or set low_memory=False.\n",
      "  exec(code_obj, self.user_global_ns, self.user_ns)\n"
     ]
    }
   ],
   "source": [
    "#https://docs.google.com/spreadsheets/d/1L3z3wM5IsZpedTWDGy_lAheA0re6hRpR/edit?usp=sharing&ouid=117962469569345028259&rtpof=true&sd=true\n",
    "#https://stackoverflow.com/questions/19611729/getting-google-spreadsheet-csv-into-a-pandas-dataframe\n",
    "sheet_id = \"1L3z3wM5IsZpedTWDGy_lAheA0re6hRpR\"\n",
    "raw_data_sheet = \"Raw_Data\"\n",
    "#incident_category_lookup_sheet = 'Incident_Category_Lookup'\n",
    "url_raw_data = f\"https://docs.google.com/spreadsheets/d/{sheet_id}/gviz/tq?tqx=out:csv&sheet={raw_data_sheet}\"\n",
    "#url_incident_category_lookup = f\"https://docs.google.com/spreadsheets/d/{sheet_id}/gviz/tq?tqx=out:csv&sheet={incident_category_lookup_sheet}\"\n",
    "safecity_dataset = pd.read_csv(url_raw_data)\n",
    "#incident_category_lookup = pd.read_csv(url_incident_category_lookup)"
   ]
  },
  {
   "cell_type": "code",
   "execution_count": 3,
   "id": "50c3b5a7",
   "metadata": {},
   "outputs": [
    {
     "ename": "NameError",
     "evalue": "name 'incident_category_lookup' is not defined",
     "output_type": "error",
     "traceback": [
      "\u001b[1;31m---------------------------------------------------------------------------\u001b[0m",
      "\u001b[1;31mNameError\u001b[0m                                 Traceback (most recent call last)",
      "\u001b[1;32m~\\AppData\\Local\\Temp/ipykernel_1140/2607584678.py\u001b[0m in \u001b[0;36m<module>\u001b[1;34m\u001b[0m\n\u001b[1;32m----> 1\u001b[1;33m \u001b[0mincident_category_lookup\u001b[0m\u001b[1;33m.\u001b[0m\u001b[0mtail\u001b[0m\u001b[1;33m(\u001b[0m\u001b[1;33m)\u001b[0m\u001b[1;33m\u001b[0m\u001b[1;33m\u001b[0m\u001b[0m\n\u001b[0m",
      "\u001b[1;31mNameError\u001b[0m: name 'incident_category_lookup' is not defined"
     ]
    }
   ],
   "source": [
    "incident_category_lookup.tail()"
   ]
  },
  {
   "cell_type": "code",
   "execution_count": null,
   "id": "071b58cf",
   "metadata": {},
   "outputs": [],
   "source": [
    "safecity_dataset.shape"
   ]
  },
  {
   "cell_type": "code",
   "execution_count": null,
   "id": "82a8cc59",
   "metadata": {},
   "outputs": [],
   "source": [
    "safecity_dataset.index"
   ]
  },
  {
   "cell_type": "code",
   "execution_count": null,
   "id": "eb435f7f",
   "metadata": {},
   "outputs": [],
   "source": [
    "safecity_dataset.columns"
   ]
  },
  {
   "cell_type": "code",
   "execution_count": null,
   "id": "a4fe2172",
   "metadata": {},
   "outputs": [],
   "source": [
    "safecity_dataset['description']"
   ]
  },
  {
   "cell_type": "code",
   "execution_count": null,
   "id": "b2f8bf25",
   "metadata": {},
   "outputs": [],
   "source": [
    "safecity_dataset.head()"
   ]
  },
  {
   "cell_type": "code",
   "execution_count": null,
   "id": "1f2c8937",
   "metadata": {},
   "outputs": [],
   "source": [
    "# Print descriptive statsitcs for each column\n",
    "print(\"Summary Stats\")\n",
    "if safecity_dataset.select_dtypes(include=[np.number]).shape[1] > 0: \n",
    "    display(safecity_dataset.select_dtypes(include=[np.number]).describe().transpose())\n",
    "if safecity_dataset.select_dtypes(include=[object]).shape[1] > 0: \n",
    "    display(safecity_dataset.select_dtypes(include=[object]).describe().transpose())"
   ]
  },
  {
   "cell_type": "code",
   "execution_count": null,
   "id": "7d4233b9",
   "metadata": {},
   "outputs": [],
   "source": [
    "# Check for presence of missing values\n",
    "print(\"Missing Values\")\n",
    "print(safecity_dataset.isnull().sum().sort_values(ascending = False))"
   ]
  },
  {
   "cell_type": "code",
   "execution_count": null,
   "id": "50fd2ea0",
   "metadata": {},
   "outputs": [],
   "source": [
    "pandas_profiling.ProfileReport(safecity_dataset, minimal = True)"
   ]
  },
  {
   "cell_type": "code",
   "execution_count": null,
   "id": "3ff11b1e",
   "metadata": {},
   "outputs": [],
   "source": [
    "%matplotlib inline"
   ]
  },
  {
   "cell_type": "code",
   "execution_count": null,
   "id": "70fd50b8",
   "metadata": {},
   "outputs": [],
   "source": [
    "\n",
    "country = 'India'\n",
    "\n",
    "# Get the Ireland rows and look at the new_cases column.\n",
    "ireland = safecity_dataset[safecity_dataset['country']==country]\n",
    "ireland['age'].plot()"
   ]
  },
  {
   "cell_type": "code",
   "execution_count": null,
   "id": "eebd555e",
   "metadata": {},
   "outputs": [],
   "source": []
  }
 ],
 "metadata": {
  "kernelspec": {
   "display_name": "Python 3 (ipykernel)",
   "language": "python",
   "name": "python3"
  },
  "language_info": {
   "codemirror_mode": {
    "name": "ipython",
    "version": 3
   },
   "file_extension": ".py",
   "mimetype": "text/x-python",
   "name": "python",
   "nbconvert_exporter": "python",
   "pygments_lexer": "ipython3",
   "version": "3.9.7"
  }
 },
 "nbformat": 4,
 "nbformat_minor": 5
}
